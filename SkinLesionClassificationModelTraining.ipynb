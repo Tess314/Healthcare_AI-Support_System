{
 "cells": [
  {
   "cell_type": "markdown",
   "metadata": {
    "id": "QRXrUrT7vpJm"
   },
   "source": [
    "##### Copyright 2023 The MediaPipe Authors. All Rights Reserved."
   ]
  },
  {
   "cell_type": "code",
   "execution_count": null,
   "metadata": {
    "id": "32O3JsNL7AxT"
   },
   "outputs": [],
   "source": [
    "#@title Licensed under the Apache License, Version 2.0 (the \"License\");\n",
    "# you may not use this file except in compliance with the License.\n",
    "# You may obtain a copy of the License at\n",
    "#\n",
    "# https://www.apache.org/licenses/LICENSE-2.0\n",
    "#\n",
    "# Unless required by applicable law or agreed to in writing, software\n",
    "# distributed under the License is distributed on an \"AS IS\" BASIS,\n",
    "# WITHOUT WARRANTIES OR CONDITIONS OF ANY KIND, either express or implied.\n",
    "# See the License for the specific language governing permissions and\n",
    "# limitations under the License."
   ]
  },
  {
   "cell_type": "code",
   "execution_count": null,
   "metadata": {
    "id": "PTfKvPclgNrh"
   },
   "outputs": [],
   "source": [
    "from zipfile import ZipFile\n",
    "file_name = \"...\"\n",
    "\n",
    "with ZipFile(file_name, 'r') as zip:\n",
    "  zip.extractall()\n",
    "  print('Done')"
   ]
  },
  {
   "cell_type": "code",
   "execution_count": null,
   "metadata": {
    "id": "2C7R45Owb1jh"
   },
   "outputs": [],
   "source": [
    "# Check image labels.\n",
    "import os\n",
    "image_path = \"/home/tess/Documents/HAM10000_all_raw_images\"\n",
    "labels = []\n",
    "for i in os.listdir(image_path):\n",
    "  if os.path.isdir(os.path.join(image_path, i)):\n",
    "    labels.append(i)\n",
    "print(labels)"
   ]
  },
  {
   "cell_type": "markdown",
   "metadata": {
    "id": "qmgcSMPeyk0P"
   },
   "source": [
    "## Making a New Model\n",
    "\n"
   ]
  },
  {
   "cell_type": "code",
   "execution_count": null,
   "metadata": {},
   "outputs": [],
   "source": [
    "!pip install mediapipe-model-maker"
   ]
  },
  {
   "cell_type": "code",
   "execution_count": null,
   "metadata": {
    "id": "GTCjgBETDqU0"
   },
   "outputs": [],
   "source": [
    "# Import the necessary modules.\n",
    "from mediapipe_model_maker import image_classifier"
   ]
  },
  {
   "cell_type": "code",
   "execution_count": null,
   "metadata": {
    "id": "Xh33Bg6QC5cz"
   },
   "outputs": [],
   "source": [
    "# Split the archive into training, validation and test dataset.\n",
    "data = image_classifier.Dataset.from_folder(\"HAM10000_all_raw_images\")\n",
    "train_data, remaining_data = data.split(0.8)\n",
    "test_data, validation_data = remaining_data.split(0.5)"
   ]
  },
  {
   "cell_type": "code",
   "execution_count": null,
   "metadata": {
    "id": "YE-CyQglHQD1"
   },
   "outputs": [],
   "source": [
    "# Retrain model.\n",
    "spec = image_classifier.SupportedModels.MOBILENET_V2\n",
    "#spec = image_classifier.SupportedModels.EFFICIENTNET_LITE0\n",
    "#spec = image_classifier.SupportedModels.EFFICIENTNET_LITE2\n",
    "#spec = image_classifier.SupportedModels.EFFICIENTNET_LITE4\n",
    "hparams = image_classifier.HParams(export_dir=\"exported_model\")\n",
    "options = image_classifier.ImageClassifierOptions(supported_model=spec, hparams=hparams)"
   ]
  },
  {
   "cell_type": "code",
   "execution_count": null,
   "metadata": {
    "id": "MQg6wPjYal2D"
   },
   "outputs": [],
   "source": [
    "# Run retraining.\n",
    "model = image_classifier.ImageClassifier.create(\n",
    "    train_data = train_data,\n",
    "    validation_data = validation_data,\n",
    "    options=options,\n",
    ")"
   ]
  },
  {
   "cell_type": "code",
   "execution_count": null,
   "metadata": {
    "id": "ULANbzL7HnIR"
   },
   "outputs": [],
   "source": [
    "# Loss and accuracy metrics.\n",
    "loss, acc = model.evaluate(test_data)\n",
    "print(f'Test loss:{loss}, Test accuracy:{acc}')"
   ]
  },
  {
   "cell_type": "code",
   "execution_count": null,
   "metadata": {
    "id": "W_YAcSpQ741m"
   },
   "outputs": [],
   "source": [
    "# F1 score, precision, and recall metrics.\n",
    "import tensorflow as tf\n",
    "\n",
    "metric_functions = model._metric_functions + [tf.keras.metrics.F1Score(),\n",
    " tf.keras.metrics.Precision(),\n",
    " tf.keras.metrics.Recall()]\n",
    "\n",
    "model._model.compile(\n",
    "    optimizer=model._optimizer,\n",
    "    loss=model._loss_function,\n",
    "    metrics=metric_functions,\n",
    " )\n",
    "\n",
    "metrics = model.evaluate(test_data)\n",
    "print(metrics)"
   ]
  },
  {
   "cell_type": "code",
   "execution_count": null,
   "metadata": {
    "id": "aMZQc767I9Q-"
   },
   "outputs": [],
   "source": [
    "# Export the model bundle.\n",
    "model.export_model()\n",
    "\n",
    "# Rename the file to be more descriptive.\n",
    "!mv exported_model/model.tflite skin_lesion_classifier.tflite"
   ]
  },
  {
   "cell_type": "code",
   "execution_count": null,
   "metadata": {
    "id": "pHxU6SjoLW-s"
   },
   "outputs": [],
   "source": [
    "from google.colab import files\n",
    "files.download(\"/content/skin_lesion_classifier.tflite\")"
   ]
  }
 ],
 "metadata": {
  "colab": {
   "provenance": []
  },
  "kernelspec": {
   "display_name": "Python 3 (ipykernel)",
   "language": "python",
   "name": "python3"
  },
  "language_info": {
   "codemirror_mode": {
    "name": "ipython",
    "version": 3
   },
   "file_extension": ".py",
   "mimetype": "text/x-python",
   "name": "python",
   "nbconvert_exporter": "python",
   "pygments_lexer": "ipython3",
   "version": "3.9.19"
  }
 },
 "nbformat": 4,
 "nbformat_minor": 4
}
